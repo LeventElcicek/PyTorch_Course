{
 "cells": [
  {
   "cell_type": "code",
   "execution_count": 8,
   "id": "0b464422-170b-49c9-b36d-fe710b176fc0",
   "metadata": {},
   "outputs": [],
   "source": [
    "import torch as tr\n",
    "import pandas as pd\n",
    "import numpy as np"
   ]
  },
  {
   "cell_type": "markdown",
   "id": "1e828678-8ac8-44d8-bd7a-b0c2552f69d1",
   "metadata": {},
   "source": [
    "Torch tensor and numpy transfer"
   ]
  },
  {
   "cell_type": "code",
   "execution_count": 9,
   "id": "f60590e1-277f-4152-a917-6d62a307da4f",
   "metadata": {},
   "outputs": [],
   "source": [
    "array=np.array([1,2,3,4,5])"
   ]
  },
  {
   "cell_type": "code",
   "execution_count": 10,
   "id": "0e4e8dc0-a999-4803-8960-52e1aaf200e4",
   "metadata": {},
   "outputs": [
    {
     "data": {
      "text/plain": [
       "array([1, 2, 3, 4, 5])"
      ]
     },
     "execution_count": 10,
     "metadata": {},
     "output_type": "execute_result"
    }
   ],
   "source": [
    "array"
   ]
  },
  {
   "cell_type": "markdown",
   "id": "b4d28f2b-864e-45b2-bab8-28b4b8d16184",
   "metadata": {},
   "source": [
    "if we use this methods when our numpy matris be changed ,the torch tensor Will be chanced to"
   ]
  },
  {
   "cell_type": "code",
   "execution_count": 13,
   "id": "ce74d2b9-16d3-4b31-93e5-641e55ffaeae",
   "metadata": {},
   "outputs": [],
   "source": [
    "trarray=tr.from_numpy(array)"
   ]
  },
  {
   "cell_type": "code",
   "execution_count": 16,
   "id": "ffe7e2f3-9e9a-4810-b745-984f1452bf97",
   "metadata": {},
   "outputs": [
    {
     "data": {
      "text/plain": [
       "torch.int32"
      ]
     },
     "execution_count": 16,
     "metadata": {},
     "output_type": "execute_result"
    }
   ],
   "source": [
    "trarray.dtype"
   ]
  },
  {
   "cell_type": "code",
   "execution_count": 17,
   "id": "e03b9bac-931a-4621-b5e5-ee3a9a52e15a",
   "metadata": {},
   "outputs": [
    {
     "data": {
      "text/plain": [
       "torch.Tensor"
      ]
     },
     "execution_count": 17,
     "metadata": {},
     "output_type": "execute_result"
    }
   ],
   "source": [
    "type(trarray)"
   ]
  },
  {
   "cell_type": "code",
   "execution_count": 18,
   "id": "640afe5f-bf9c-4a6e-a4cb-f1176095a8e3",
   "metadata": {},
   "outputs": [],
   "source": [
    "trarray2 = tr.as_tensor(array)"
   ]
  },
  {
   "cell_type": "code",
   "execution_count": 19,
   "id": "a801400b-2ec3-45f4-a35e-dd5aab34e25a",
   "metadata": {},
   "outputs": [
    {
     "data": {
      "text/plain": [
       "tensor([1, 2, 3, 4, 5], dtype=torch.int32)"
      ]
     },
     "execution_count": 19,
     "metadata": {},
     "output_type": "execute_result"
    }
   ],
   "source": [
    "trarray2"
   ]
  },
  {
   "cell_type": "code",
   "execution_count": 20,
   "id": "74d1033a-0ba2-4fa8-bbf1-ffefe0a8b2aa",
   "metadata": {},
   "outputs": [],
   "source": [
    "array[0]=255"
   ]
  },
  {
   "cell_type": "code",
   "execution_count": 22,
   "id": "1d8fe618-ec98-4be9-94be-db13e109b562",
   "metadata": {},
   "outputs": [
    {
     "data": {
      "text/plain": [
       "tensor([255,   2,   3,   4,   5], dtype=torch.int32)"
      ]
     },
     "execution_count": 22,
     "metadata": {},
     "output_type": "execute_result"
    }
   ],
   "source": [
    "trarray2"
   ]
  },
  {
   "cell_type": "code",
   "execution_count": 21,
   "id": "c500a4fb-c7f3-4cdb-9dd1-a0dcdcf66a1a",
   "metadata": {},
   "outputs": [
    {
     "data": {
      "text/plain": [
       "tensor([255,   2,   3,   4,   5], dtype=torch.int32)"
      ]
     },
     "execution_count": 21,
     "metadata": {},
     "output_type": "execute_result"
    }
   ],
   "source": [
    "trarray"
   ]
  },
  {
   "cell_type": "markdown",
   "id": "43104386-69b4-45a5-af3e-6bb87e1e24b9",
   "metadata": {},
   "source": [
    "İf we use this metod, our torch tensor will not be changed"
   ]
  },
  {
   "cell_type": "code",
   "execution_count": 23,
   "id": "489c3776-dc35-45c1-9be0-85d69a472a3b",
   "metadata": {},
   "outputs": [],
   "source": [
    "narray=np.array([6,7,8,9])"
   ]
  },
  {
   "cell_type": "code",
   "execution_count": 24,
   "id": "2e54b838-4906-4f1e-8fe8-d1a7f85c466a",
   "metadata": {},
   "outputs": [],
   "source": [
    "staytorch=tr.tensor(narray)"
   ]
  },
  {
   "cell_type": "code",
   "execution_count": 25,
   "id": "517a6cef-f41a-4c04-adaa-6450699a95aa",
   "metadata": {},
   "outputs": [
    {
     "data": {
      "text/plain": [
       "tensor([6, 7, 8, 9], dtype=torch.int32)"
      ]
     },
     "execution_count": 25,
     "metadata": {},
     "output_type": "execute_result"
    }
   ],
   "source": [
    "staytorch\n"
   ]
  },
  {
   "cell_type": "code",
   "execution_count": 26,
   "id": "622f90f7-177a-41e2-befb-59689e6c8b86",
   "metadata": {},
   "outputs": [],
   "source": [
    "narray[0]=999"
   ]
  },
  {
   "cell_type": "code",
   "execution_count": 27,
   "id": "f86c22f8-248c-4fe9-9601-33e4ef6884d7",
   "metadata": {},
   "outputs": [
    {
     "data": {
      "text/plain": [
       "tensor([6, 7, 8, 9], dtype=torch.int32)"
      ]
     },
     "execution_count": 27,
     "metadata": {},
     "output_type": "execute_result"
    }
   ],
   "source": [
    "staytorch"
   ]
  },
  {
   "cell_type": "markdown",
   "id": "d33ad692-1237-4341-b3ac-8f2ad0cccb43",
   "metadata": {},
   "source": [
    "The torch tensor converting to float"
   ]
  },
  {
   "cell_type": "code",
   "execution_count": 28,
   "id": "32d768e1-8af4-4cf5-8dbf-5614647818a3",
   "metadata": {},
   "outputs": [],
   "source": [
    "floattensor=tr.FloatTensor(narray)"
   ]
  },
  {
   "cell_type": "code",
   "execution_count": 29,
   "id": "6e197c00-c24b-4a7a-9494-db43a6da2993",
   "metadata": {},
   "outputs": [
    {
     "data": {
      "text/plain": [
       "tensor([999.,   7.,   8.,   9.])"
      ]
     },
     "execution_count": 29,
     "metadata": {},
     "output_type": "execute_result"
    }
   ],
   "source": [
    "floattensor"
   ]
  },
  {
   "cell_type": "raw",
   "id": "10d78252-7c46-4caf-96eb-653d59befcfa",
   "metadata": {},
   "source": [
    "create random numbers with torch"
   ]
  },
  {
   "cell_type": "code",
   "execution_count": 41,
   "id": "75d04a8c-4e75-4c63-8ea8-b105977d14dc",
   "metadata": {},
   "outputs": [
    {
     "data": {
      "text/plain": [
       "tensor([[0.9517, 0.5610],\n",
       "        [0.1973, 0.6751],\n",
       "        [0.6050, 0.5701],\n",
       "        [0.1708, 0.7229]])"
      ]
     },
     "execution_count": 41,
     "metadata": {},
     "output_type": "execute_result"
    }
   ],
   "source": [
    "torch.rand(4,2)"
   ]
  },
  {
   "cell_type": "code",
   "execution_count": 43,
   "id": "3c2593b9-fdbd-472a-8142-c7df326001b2",
   "metadata": {},
   "outputs": [],
   "source": [
    "y=tr.randint(low=2,high=11,size=(5,5))"
   ]
  },
  {
   "cell_type": "code",
   "execution_count": 44,
   "id": "949a9fcc-5ea2-4f38-b294-12504e5d8e1a",
   "metadata": {},
   "outputs": [
    {
     "data": {
      "text/plain": [
       "tensor([[ 2,  9,  5, 10,  2],\n",
       "        [ 9,  2,  8,  9,  5],\n",
       "        [ 9,  4,  2,  9,  4],\n",
       "        [ 2,  3,  7,  5,  6],\n",
       "        [10,  3,  2,  3,  7]])"
      ]
     },
     "execution_count": 44,
     "metadata": {},
     "output_type": "execute_result"
    }
   ],
   "source": [
    "y"
   ]
  },
  {
   "cell_type": "code",
   "execution_count": 46,
   "id": "558b468a-9722-4b0a-b0fa-7100c06207c4",
   "metadata": {},
   "outputs": [],
   "source": [
    "x=tr.randint_like(y,low=2,high=11)"
   ]
  },
  {
   "cell_type": "code",
   "execution_count": 47,
   "id": "6c7a097e-d4c6-427a-81cc-db8cd19b3749",
   "metadata": {},
   "outputs": [
    {
     "data": {
      "text/plain": [
       "tensor([[ 3,  4,  9,  9,  9],\n",
       "        [ 6,  9,  7,  5,  7],\n",
       "        [ 5,  8,  2,  9,  8],\n",
       "        [ 3,  9,  9,  9, 10],\n",
       "        [ 8, 10,  6,  2,  2]])"
      ]
     },
     "execution_count": 47,
     "metadata": {},
     "output_type": "execute_result"
    }
   ],
   "source": [
    "x"
   ]
  },
  {
   "cell_type": "code",
   "execution_count": null,
   "id": "6dc2bf59-d3a5-44d3-b976-889aae6fe6f7",
   "metadata": {},
   "outputs": [],
   "source": []
  }
 ],
 "metadata": {
  "kernelspec": {
   "display_name": "Python 3 (ipykernel)",
   "language": "python",
   "name": "python3"
  },
  "language_info": {
   "codemirror_mode": {
    "name": "ipython",
    "version": 3
   },
   "file_extension": ".py",
   "mimetype": "text/x-python",
   "name": "python",
   "nbconvert_exporter": "python",
   "pygments_lexer": "ipython3",
   "version": "3.10.15"
  }
 },
 "nbformat": 4,
 "nbformat_minor": 5
}
