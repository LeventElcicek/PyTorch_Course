{
 "cells": [
  {
   "cell_type": "code",
   "execution_count": 1,
   "id": "55456a8a-d215-49ba-b9df-6c70e553947d",
   "metadata": {},
   "outputs": [],
   "source": [
    "import torch\n",
    "import numpy as np"
   ]
  },
  {
   "cell_type": "markdown",
   "id": "27cbc740-1cf0-4f91-8132-9a9a01fa2aa4",
   "metadata": {},
   "source": [
    "Create array with numpy"
   ]
  },
  {
   "cell_type": "code",
   "execution_count": 2,
   "id": "86e4da30-298c-456c-aaf2-4a30ada49a46",
   "metadata": {},
   "outputs": [],
   "source": [
    "array=[[1,2,3],[4,5,6]]"
   ]
  },
  {
   "cell_type": "code",
   "execution_count": 4,
   "id": "df26ea36-c748-4c7a-ac46-45bfa7c8828e",
   "metadata": {},
   "outputs": [],
   "source": [
    "array2=np.array(array)"
   ]
  },
  {
   "cell_type": "code",
   "execution_count": 5,
   "id": "c201679a-f471-4d4a-beaf-839a02932f7a",
   "metadata": {},
   "outputs": [
    {
     "data": {
      "text/plain": [
       "array([[1, 2, 3],\n",
       "       [4, 5, 6]])"
      ]
     },
     "execution_count": 5,
     "metadata": {},
     "output_type": "execute_result"
    }
   ],
   "source": [
    "array2"
   ]
  },
  {
   "cell_type": "code",
   "execution_count": 6,
   "id": "e298afbd-b793-4e3f-ab3d-cb22178a9a77",
   "metadata": {},
   "outputs": [
    {
     "data": {
      "text/plain": [
       "(2, 3)"
      ]
     },
     "execution_count": 6,
     "metadata": {},
     "output_type": "execute_result"
    }
   ],
   "source": [
    "array2.shape\n"
   ]
  },
  {
   "cell_type": "code",
   "execution_count": 7,
   "id": "f87f6bac-911d-4812-b8aa-8c2a5e11832c",
   "metadata": {},
   "outputs": [
    {
     "data": {
      "text/plain": [
       "6"
      ]
     },
     "execution_count": 7,
     "metadata": {},
     "output_type": "execute_result"
    }
   ],
   "source": [
    "array2.size"
   ]
  },
  {
   "cell_type": "markdown",
   "id": "09282ea0-7537-44b4-9d8a-cf0097c4e551",
   "metadata": {},
   "source": [
    "Create shorted array with numpy"
   ]
  },
  {
   "cell_type": "code",
   "execution_count": 10,
   "id": "1b9911ab-ead3-4278-b7d2-dd9dd29d28da",
   "metadata": {},
   "outputs": [],
   "source": [
    "short_arrat=np.arange(1,10)"
   ]
  },
  {
   "cell_type": "code",
   "execution_count": 11,
   "id": "84a2315b-82ee-4681-8f5f-67f9fc24a421",
   "metadata": {},
   "outputs": [
    {
     "data": {
      "text/plain": [
       "array([1, 2, 3, 4, 5, 6, 7, 8, 9])"
      ]
     },
     "execution_count": 11,
     "metadata": {},
     "output_type": "execute_result"
    }
   ],
   "source": [
    "short_arrat"
   ]
  },
  {
   "cell_type": "code",
   "execution_count": 12,
   "id": "f7c01c8a-4b0d-46c3-bbd0-0099f937f085",
   "metadata": {},
   "outputs": [],
   "source": [
    "zero=np.zeros(5)"
   ]
  },
  {
   "cell_type": "code",
   "execution_count": 13,
   "id": "6d5df7e7-bbe4-4a77-a88d-144a6fb7e0f1",
   "metadata": {},
   "outputs": [
    {
     "data": {
      "text/plain": [
       "array([0., 0., 0., 0., 0.])"
      ]
     },
     "execution_count": 13,
     "metadata": {},
     "output_type": "execute_result"
    }
   ],
   "source": [
    "zero"
   ]
  },
  {
   "cell_type": "code",
   "execution_count": 14,
   "id": "ec542963-fd6f-4a60-84f8-e4cef26f5ae9",
   "metadata": {},
   "outputs": [],
   "source": [
    "one=np.ones(4)"
   ]
  },
  {
   "cell_type": "code",
   "execution_count": 15,
   "id": "ced67fb3-5e95-43f0-9519-d41ec73b9eea",
   "metadata": {},
   "outputs": [
    {
     "data": {
      "text/plain": [
       "array([1., 1., 1., 1.])"
      ]
     },
     "execution_count": 15,
     "metadata": {},
     "output_type": "execute_result"
    }
   ],
   "source": [
    "one"
   ]
  },
  {
   "cell_type": "code",
   "execution_count": 18,
   "id": "183c185d-9a92-4878-90ee-6a63f378a7fe",
   "metadata": {},
   "outputs": [],
   "source": [
    "half=np.array(one)/2"
   ]
  },
  {
   "cell_type": "code",
   "execution_count": 19,
   "id": "1a5df023-4d6f-4640-9434-76297d05f8da",
   "metadata": {},
   "outputs": [
    {
     "data": {
      "text/plain": [
       "array([0.5, 0.5, 0.5, 0.5])"
      ]
     },
     "execution_count": 19,
     "metadata": {},
     "output_type": "execute_result"
    }
   ],
   "source": [
    "half"
   ]
  },
  {
   "cell_type": "markdown",
   "id": "3cc63e96-32ea-499c-954a-c4ee08729281",
   "metadata": {},
   "source": [
    "create matris"
   ]
  },
  {
   "cell_type": "code",
   "execution_count": 20,
   "id": "846a1bd5-888e-49cf-810a-b6fe02089cd8",
   "metadata": {},
   "outputs": [],
   "source": [
    "birim= np.eye(4)"
   ]
  },
  {
   "cell_type": "code",
   "execution_count": 21,
   "id": "ae46568c-ffd0-493e-a0dc-1d0bb17b2019",
   "metadata": {},
   "outputs": [
    {
     "data": {
      "text/plain": [
       "array([[1., 0., 0., 0.],\n",
       "       [0., 1., 0., 0.],\n",
       "       [0., 0., 1., 0.],\n",
       "       [0., 0., 0., 1.]])"
      ]
     },
     "execution_count": 21,
     "metadata": {},
     "output_type": "execute_result"
    }
   ],
   "source": [
    "birim"
   ]
  },
  {
   "cell_type": "markdown",
   "id": "d9267fdf-161f-434e-b964-6a7e251d4621",
   "metadata": {},
   "source": [
    "create random number between 0 and 1 "
   ]
  },
  {
   "cell_type": "code",
   "execution_count": 24,
   "id": "ad338332-692d-49c8-9163-c4f3237e86c1",
   "metadata": {},
   "outputs": [],
   "source": [
    "random=np.random.rand(9)"
   ]
  },
  {
   "cell_type": "code",
   "execution_count": 25,
   "id": "5a343558-4937-42b0-b083-b7ce4af69236",
   "metadata": {},
   "outputs": [
    {
     "data": {
      "text/plain": [
       "array([0.59049105, 0.27560092, 0.84841383, 0.52759862, 0.94259119,\n",
       "       0.2423803 , 0.62461886, 0.60120634, 0.63858022])"
      ]
     },
     "execution_count": 25,
     "metadata": {},
     "output_type": "execute_result"
    }
   ],
   "source": [
    "random"
   ]
  },
  {
   "cell_type": "markdown",
   "id": "5f708ce0-aa06-4bc9-bb7d-36d0c16ce1ef",
   "metadata": {},
   "source": [
    "create intiger with np"
   ]
  },
  {
   "cell_type": "code",
   "execution_count": 50,
   "id": "516a3bed-e815-470c-8723-12d2a5c93fbf",
   "metadata": {},
   "outputs": [],
   "source": [
    "arry=np.random.randint(2,15,10)"
   ]
  },
  {
   "cell_type": "code",
   "execution_count": 51,
   "id": "9d0554d6-f7bb-412e-b08f-6b47e649c7a9",
   "metadata": {},
   "outputs": [
    {
     "data": {
      "text/plain": [
       "array([ 6, 12,  8,  9, 14,  4, 10, 14,  6, 11])"
      ]
     },
     "execution_count": 51,
     "metadata": {},
     "output_type": "execute_result"
    }
   ],
   "source": [
    "arry"
   ]
  },
  {
   "cell_type": "markdown",
   "id": "215f8e8d-9e98-4741-ba79-71b367e365d8",
   "metadata": {},
   "source": [
    "if we want create a stabhil array we should use the seed"
   ]
  },
  {
   "cell_type": "code",
   "execution_count": 52,
   "id": "7aaaa1f3-45ad-45da-9c98-62b68b7a2e60",
   "metadata": {},
   "outputs": [],
   "source": [
    "stabhil=np.random.seed(25)"
   ]
  },
  {
   "cell_type": "code",
   "execution_count": 54,
   "id": "945f469e-784a-4181-b6a5-0ef323565833",
   "metadata": {},
   "outputs": [],
   "source": [
    "reshapeiint=arry.reshape(2,5)"
   ]
  },
  {
   "cell_type": "code",
   "execution_count": 55,
   "id": "9a5f747d-46c8-4c5d-8aa1-ba93e0641a23",
   "metadata": {},
   "outputs": [
    {
     "data": {
      "text/plain": [
       "array([[ 6, 12,  8,  9, 14],\n",
       "       [ 4, 10, 14,  6, 11]])"
      ]
     },
     "execution_count": 55,
     "metadata": {},
     "output_type": "execute_result"
    }
   ],
   "source": [
    "reshapeiint"
   ]
  },
  {
   "cell_type": "markdown",
   "id": "a5f06b81-b42b-4de2-a019-d85b1d4c3615",
   "metadata": {},
   "source": [
    "find the max value in array"
   ]
  },
  {
   "cell_type": "code",
   "execution_count": 56,
   "id": "4099eac9-5a70-4498-a293-971a0f15b9a4",
   "metadata": {},
   "outputs": [],
   "source": [
    "max=np.max(reshapeiint)"
   ]
  },
  {
   "cell_type": "code",
   "execution_count": 57,
   "id": "c34fbf57-1684-4e73-a508-f066d337c27b",
   "metadata": {},
   "outputs": [
    {
     "data": {
      "text/plain": [
       "14"
      ]
     },
     "execution_count": 57,
     "metadata": {},
     "output_type": "execute_result"
    }
   ],
   "source": [
    "max"
   ]
  },
  {
   "cell_type": "code",
   "execution_count": 60,
   "id": "10b7bbec-1d3e-4b49-a8c4-e676fa8d705b",
   "metadata": {},
   "outputs": [],
   "source": [
    "indis=np.argmax(reshapeiint)"
   ]
  },
  {
   "cell_type": "code",
   "execution_count": 61,
   "id": "0c9ed3af-eefc-4924-a19f-c21d69d78e05",
   "metadata": {},
   "outputs": [
    {
     "data": {
      "text/plain": [
       "4"
      ]
     },
     "execution_count": 61,
     "metadata": {},
     "output_type": "execute_result"
    }
   ],
   "source": [
    "indis"
   ]
  },
  {
   "cell_type": "markdown",
   "id": "ab4711dc-f1c4-49ef-99cb-f9d6ebcc2a48",
   "metadata": {},
   "source": [
    "aarray slace"
   ]
  },
  {
   "cell_type": "code",
   "execution_count": 62,
   "id": "8a365605-fb59-42c2-b02a-5e173a609986",
   "metadata": {},
   "outputs": [],
   "source": [
    "slace=reshapeiint[1:5]"
   ]
  },
  {
   "cell_type": "code",
   "execution_count": 63,
   "id": "1add6b09-077b-424f-aa82-a565710c6dfc",
   "metadata": {},
   "outputs": [
    {
     "data": {
      "text/plain": [
       "array([[ 4, 10, 14,  6, 11]])"
      ]
     },
     "execution_count": 63,
     "metadata": {},
     "output_type": "execute_result"
    }
   ],
   "source": [
    "slace"
   ]
  },
  {
   "cell_type": "markdown",
   "id": "b3cbef96-8052-4019-a753-c9a0c3be547d",
   "metadata": {},
   "source": [
    "copiing the array"
   ]
  },
  {
   "cell_type": "code",
   "execution_count": 64,
   "id": "850c0ca0-1191-49b6-bc80-7971b9080bcd",
   "metadata": {},
   "outputs": [],
   "source": [
    "slace2=slace.copy()"
   ]
  },
  {
   "cell_type": "code",
   "execution_count": 65,
   "id": "95a9f795-2c3f-4581-a1a6-7d2e23cd7ff0",
   "metadata": {},
   "outputs": [
    {
     "data": {
      "text/plain": [
       "array([[ 4, 10, 14,  6, 11]])"
      ]
     },
     "execution_count": 65,
     "metadata": {},
     "output_type": "execute_result"
    }
   ],
   "source": [
    "slace2"
   ]
  },
  {
   "cell_type": "code",
   "execution_count": 76,
   "id": "c4561380-4eb7-4961-af1a-80e36061ae72",
   "metadata": {},
   "outputs": [
    {
     "data": {
      "text/plain": [
       "array([4, 5, 6])"
      ]
     },
     "execution_count": 76,
     "metadata": {},
     "output_type": "execute_result"
    }
   ],
   "source": [
    "array2[1]"
   ]
  },
  {
   "cell_type": "code",
   "execution_count": 77,
   "id": "16592aa8-ad9d-454a-9ee5-692bacbd108c",
   "metadata": {},
   "outputs": [
    {
     "data": {
      "text/plain": [
       "array([[1, 2, 3],\n",
       "       [4, 5, 6]])"
      ]
     },
     "execution_count": 77,
     "metadata": {},
     "output_type": "execute_result"
    }
   ],
   "source": [
    "array2[:2]"
   ]
  },
  {
   "cell_type": "markdown",
   "id": "3a840bbb-a66d-43b1-94c5-7f4d49dc14ea",
   "metadata": {},
   "source": [
    "firt 2 rows after firs colons"
   ]
  },
  {
   "cell_type": "code",
   "execution_count": 81,
   "id": "f831131b-b9ab-45cd-9ab7-931f8f0fdf4f",
   "metadata": {},
   "outputs": [
    {
     "data": {
      "text/plain": [
       "array([[2, 3],\n",
       "       [5, 6]])"
      ]
     },
     "execution_count": 81,
     "metadata": {},
     "output_type": "execute_result"
    }
   ],
   "source": [
    "array2[:2,1:]"
   ]
  },
  {
   "cell_type": "code",
   "execution_count": 82,
   "id": "add1f637-3e1d-4bb2-90aa-142dbfd11108",
   "metadata": {},
   "outputs": [],
   "source": [
    "array3=np.arange(1,11)"
   ]
  },
  {
   "cell_type": "code",
   "execution_count": 83,
   "id": "945309f1-b195-47fd-b00c-f36643ccb302",
   "metadata": {},
   "outputs": [
    {
     "data": {
      "text/plain": [
       "array([ 1,  2,  3,  4,  5,  6,  7,  8,  9, 10])"
      ]
     },
     "execution_count": 83,
     "metadata": {},
     "output_type": "execute_result"
    }
   ],
   "source": [
    "array3"
   ]
  },
  {
   "cell_type": "code",
   "execution_count": 84,
   "id": "730766eb-c7ea-4dc6-a17c-51869541928c",
   "metadata": {},
   "outputs": [
    {
     "data": {
      "text/plain": [
       "array([False, False, False, False,  True,  True,  True,  True,  True,\n",
       "        True])"
      ]
     },
     "execution_count": 84,
     "metadata": {},
     "output_type": "execute_result"
    }
   ],
   "source": [
    "array3>4"
   ]
  },
  {
   "cell_type": "markdown",
   "id": "e0dd6c65-16b1-4f7c-9dc0-6d97696560fa",
   "metadata": {},
   "source": [
    "sum with numpy"
   ]
  },
  {
   "cell_type": "code",
   "execution_count": 85,
   "id": "27600fc4-74e2-4062-87d5-168d1245605f",
   "metadata": {},
   "outputs": [
    {
     "data": {
      "text/plain": [
       "array([5, 7, 9])"
      ]
     },
     "execution_count": 85,
     "metadata": {},
     "output_type": "execute_result"
    }
   ],
   "source": [
    "array2.sum(axis=0)"
   ]
  },
  {
   "cell_type": "code",
   "execution_count": 86,
   "id": "8e8300ec-daf4-429b-8a92-f0dee77cd9d1",
   "metadata": {},
   "outputs": [
    {
     "data": {
      "text/plain": [
       "array([ 6, 15])"
      ]
     },
     "execution_count": 86,
     "metadata": {},
     "output_type": "execute_result"
    }
   ],
   "source": [
    "array2.sum(axis=1)"
   ]
  },
  {
   "cell_type": "code",
   "execution_count": null,
   "id": "20f8f311-f130-4b20-8b14-55802db0d108",
   "metadata": {},
   "outputs": [],
   "source": []
  }
 ],
 "metadata": {
  "kernelspec": {
   "display_name": "Python 3 (ipykernel)",
   "language": "python",
   "name": "python3"
  },
  "language_info": {
   "codemirror_mode": {
    "name": "ipython",
    "version": 3
   },
   "file_extension": ".py",
   "mimetype": "text/x-python",
   "name": "python",
   "nbconvert_exporter": "python",
   "pygments_lexer": "ipython3",
   "version": "3.10.15"
  }
 },
 "nbformat": 4,
 "nbformat_minor": 5
}
